{
 "cells": [
  {
   "cell_type": "code",
   "execution_count": 10,
   "id": "0366c46f-37f7-469f-81b6-6c1bb593dc2b",
   "metadata": {},
   "outputs": [
    {
     "name": "stdout",
     "output_type": "stream",
     "text": [
      "Choose the operation you want to execute: \n",
      "1.Add\n",
      "2.Subtraction\n",
      "3.Multiplication\n",
      "4.Division\n"
     ]
    },
    {
     "name": "stdin",
     "output_type": "stream",
     "text": [
      "select operation:  4\n"
     ]
    },
    {
     "name": "stdout",
     "output_type": "stream",
     "text": [
      "Enter the two number: \n"
     ]
    },
    {
     "name": "stdin",
     "output_type": "stream",
     "text": [
      "> 4\n",
      "> 5\n"
     ]
    },
    {
     "name": "stdout",
     "output_type": "stream",
     "text": [
      "The division is:  0.8\n"
     ]
    }
   ],
   "source": [
    "def add(a,b):\n",
    "    return a+b\n",
    "\n",
    "def sub(a,b):\n",
    "    return a-b\n",
    "\n",
    "def mul(a,b):\n",
    "    return a*b\n",
    "\n",
    "def div(a,b):\n",
    "    return a/b\n",
    "\n",
    "\n",
    "print(\"Choose the operation you want to execute: \")\n",
    "print(\"1.Add\")\n",
    "print(\"2.Subtraction\")\n",
    "print(\"3.Multiplication\")\n",
    "print(\"4.Division\")\n",
    "\n",
    "choice = int(input(\"select operation: \"))\n",
    "\n",
    "if choice == 1:\n",
    "    print(\"Enter the two number:\")\n",
    "    num1 = int(input('>'))\n",
    "    num2 = int(input('>'))\n",
    "    print(\"The sum is: \", add(num1,num2))\n",
    "    \n",
    "elif choice == 2:\n",
    "    print(\"Enter the two number: \")\n",
    "    num1 = int(input('>'))\n",
    "    num2 = int(input('>'))\n",
    "    print(\"The difference is: \", sub(num1,num2))\n",
    "\n",
    "elif choice == 3:\n",
    "    print(\"Enter the two number: \")\n",
    "    num1 = int(input('>'))\n",
    "    num2 = int(input('>'))\n",
    "    print(\"The multiplication is: \", mul(num1, num2))\n",
    "\n",
    "elif choice == 4:\n",
    "    print(\"Enter the two number: \")\n",
    "    num1 = int(input('>'))\n",
    "    num2 = int(input('>'))\n",
    "    print(\"The division is: \", div(num1, num2))\n",
    "\n",
    "else:\n",
    "    print(\"You choose wrong number\")"
   ]
  },
  {
   "cell_type": "code",
   "execution_count": null,
   "id": "1fbc4e0d-1f52-4c37-a199-83e4240f1e0b",
   "metadata": {},
   "outputs": [],
   "source": []
  }
 ],
 "metadata": {
  "kernelspec": {
   "display_name": "Python 3 (ipykernel)",
   "language": "python",
   "name": "python3"
  },
  "language_info": {
   "codemirror_mode": {
    "name": "ipython",
    "version": 3
   },
   "file_extension": ".py",
   "mimetype": "text/x-python",
   "name": "python",
   "nbconvert_exporter": "python",
   "pygments_lexer": "ipython3",
   "version": "3.10.8"
  }
 },
 "nbformat": 4,
 "nbformat_minor": 5
}
